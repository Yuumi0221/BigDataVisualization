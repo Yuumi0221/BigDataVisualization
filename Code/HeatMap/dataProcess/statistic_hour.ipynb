{
 "cells": [
  {
   "cell_type": "markdown",
   "metadata": {},
   "source": [
    "## 读入数据"
   ]
  },
  {
   "cell_type": "code",
   "execution_count": null,
   "metadata": {},
   "outputs": [],
   "source": [
    "import csv\n",
    "\n",
    "f_1=csv.reader(open('../../../sources/taxi/train.csv', 'r', newline=''))\n",
    "data=list(f_1)"
   ]
  },
  {
   "cell_type": "markdown",
   "metadata": {},
   "source": [
    "## 抽取第一个坐标作为起始点"
   ]
  },
  {
   "cell_type": "code",
   "execution_count": null,
   "metadata": {},
   "outputs": [],
   "source": [
    "pointList_2=[]\n",
    "for i in range(2,len(data)-1):\n",
    "    tmp_1=data[i][8].split('[')\n",
    "    if (len(tmp_1)>2):\n",
    "        tmp_2=tmp_1[2].split(']')\n",
    "        tmp_3=tmp_2[0].split(',')\n",
    "        tmp_3.append('1')\n",
    "\n",
    "    pointList_2.append(tmp_3)"
   ]
  },
  {
   "cell_type": "markdown",
   "metadata": {},
   "source": [
    "## 处理时间戳"
   ]
  },
  {
   "cell_type": "code",
   "execution_count": null,
   "metadata": {},
   "outputs": [],
   "source": [
    "import datetime as dt\n",
    "import pandas as pd\n",
    "import pytz\n",
    "\n",
    "source = pd.read_csv(\"../../../sources/taxi/train.csv\", sep=\",\", low_memory=False)\n",
    "#source = pd.read_csv('../../../sources/taxi/train.csv', sep=',', low_memory=False)\n",
    "#source.head()\n",
    "no_poly_source = source.loc[:, source.columns != 'POLYLINE']\n",
    "#no_poly_source = source.loc[:]\n",
    "#no_poly_source.head()\n",
    "miss_false_no_poly_source = no_poly_source[no_poly_source.MISSING_DATA == False]\n",
    "\n",
    "miss_false_no_poly_source.head()"
   ]
  },
  {
   "cell_type": "code",
   "execution_count": null,
   "metadata": {},
   "outputs": [],
   "source": [
    "new_source = miss_false_no_poly_source.copy()\n",
    "new_source['WEEK_DAY'] = new_source.TIMESTAMP.apply(lambda x: dt.datetime.utcfromtimestamp(x).weekday())\n",
    "new_source['YEAR'] = new_source.TIMESTAMP.apply(lambda x: dt.datetime.utcfromtimestamp(x).year)\n",
    "new_source['MONTH'] = new_source.TIMESTAMP.apply(lambda x: dt.datetime.utcfromtimestamp(x).month)\n",
    "new_source['MONTH_DAY'] = new_source.TIMESTAMP.apply(lambda x: dt.datetime.utcfromtimestamp(x).day)\n",
    "new_source['HOUR'] = new_source.TIMESTAMP.apply(lambda x: dt.datetime.utcfromtimestamp(x).hour)\n",
    "new_source['DATE'] = new_source.TIMESTAMP.apply(lambda x: dt.datetime.utcfromtimestamp(x).date().isoformat())\n",
    "new_source['DATE_DATE'] = new_source.TIMESTAMP.apply(lambda x: dt.datetime.utcfromtimestamp(x).date())\n",
    "new_source.tail()"
   ]
  },
  {
   "cell_type": "markdown",
   "metadata": {},
   "source": [
    "## 生产按小时分片的统计"
   ]
  },
  {
   "cell_type": "code",
   "execution_count": null,
   "metadata": {},
   "outputs": [],
   "source": [
    "L_depart_time=[]\n",
    "for i in range(24):\n",
    "    L_depart_time.append([])\n",
    "\n",
    "count=0 \n",
    "    \n",
    "for row in new_source.iterrows():\n",
    "    hour=row[1][12]\n",
    "    temp=pointList_2[count]\n",
    "    count+=1\n",
    "    L_depart_time[hour].append(temp)"
   ]
  },
  {
   "cell_type": "markdown",
   "metadata": {},
   "source": [
    "## 写入csv"
   ]
  },
  {
   "cell_type": "code",
   "execution_count": null,
   "metadata": {},
   "outputs": [],
   "source": [
    "for hour in range(24):\n",
    "    filename=\"./TimeData/\"+str(hour)+\".csv\"\n",
    "    \n",
    "    f_time_write=csv.writer(open(filename,'w', newline=''))\n",
    " \n",
    "    L_title=['lng','lan','number']\n",
    "    f_time_write.writerow(L_title)\n",
    "    \n",
    "    for item in L_depart_time[hour]:\n",
    "        f_time_write.writerow(item)"
   ]
  }
 ],
 "metadata": {
  "kernelspec": {
   "display_name": "Python 3",
   "language": "python",
   "name": "python3"
  },
  "language_info": {
   "codemirror_mode": {
    "name": "ipython",
    "version": 3
   },
   "file_extension": ".py",
   "mimetype": "text/x-python",
   "name": "python",
   "nbconvert_exporter": "python",
   "pygments_lexer": "ipython3",
   "version": "3.8.5"
  }
 },
 "nbformat": 4,
 "nbformat_minor": 4
}
